{
  "nbformat": 4,
  "nbformat_minor": 0,
  "metadata": {
    "colab": {
      "name": "Copy of Intro_to_Python_II.ipynb",
      "provenance": [],
      "collapsed_sections": [],
      "include_colab_link": true
    },
    "kernelspec": {
      "name": "python3",
      "display_name": "Python 3"
    }
  },
  "cells": [
    {
      "cell_type": "markdown",
      "metadata": {
        "id": "view-in-github",
        "colab_type": "text"
      },
      "source": [
        "<a href=\"https://colab.research.google.com/github/KimballNJardine/MATH215/blob/main/Intro_to_Python_II.ipynb\" target=\"_parent\"><img src=\"https://colab.research.google.com/assets/colab-badge.svg\" alt=\"Open In Colab\"/></a>"
      ]
    },
    {
      "cell_type": "markdown",
      "metadata": {
        "id": "685r5AWPa9Xe"
      },
      "source": [
        "# **Lab 2 - Introduction to Python programming II**"
      ]
    },
    {
      "cell_type": "markdown",
      "metadata": {
        "id": "V-qYB1txmmzK"
      },
      "source": [
        "Enter your code in the spaces provided. Do not change any of the variable names or function names that are already provided for you. In places where we specify the name of the return value, make sure that your code produces the a value with the correct name."
      ]
    },
    {
      "cell_type": "code",
      "metadata": {
        "id": "Gn91PfqIdio9"
      },
      "source": [
        "# Do not edit this cell.\n",
        "\n",
        "LabID=\"Lab2\"\n",
        "\n",
        "try:\n",
        "  from graderHelp import ISGRADEPLOT\n",
        "except ImportError:\n",
        "  ISGRADEPLOT = True"
      ],
      "execution_count": 1,
      "outputs": []
    },
    {
      "cell_type": "markdown",
      "metadata": {
        "id": "QxyApY1lbIyA"
      },
      "source": [
        "**Enter your name, section number, and BYU NetID**"
      ]
    },
    {
      "cell_type": "code",
      "metadata": {
        "id": "Y4Ga6wzLbG-K"
      },
      "source": [
        "# Enter your first and last names in between the quotation marks.\n",
        "\n",
        "first_name=\"Kimball\"\n",
        "\n",
        "last_name=\"Jardine\"\n",
        "\n",
        "# Enter your Math 215 section number in between the quotation marks. \n",
        "\n",
        "section_number=\"001\"  \n",
        "\n",
        "# Enter your BYU NetID in between the quotation marks.  NOT YOUR BYU ID NUMBER!\n",
        "\n",
        "BYUNetID=\"knj28\""
      ],
      "execution_count": 2,
      "outputs": []
    },
    {
      "cell_type": "markdown",
      "metadata": {
        "id": "NCF4YDbeblKI"
      },
      "source": [
        "**Problem 1**"
      ]
    },
    {
      "cell_type": "code",
      "metadata": {
        "id": "ZJJu3xyWb2OG"
      },
      "source": [
        "first_elem=2   # Replace the value of 0 with the number described in Problem 1."
      ],
      "execution_count": 3,
      "outputs": []
    },
    {
      "cell_type": "markdown",
      "metadata": {
        "id": "g3Hq1OYZfq5B"
      },
      "source": [
        "**Problem 2**"
      ]
    },
    {
      "cell_type": "code",
      "metadata": {
        "id": "mqfH8cBsfs1e"
      },
      "source": [
        "def sum_list(L):\n",
        "  sum = 0\n",
        "  for i in L:\n",
        "    sum += i\n",
        "  # Put your code here. \n",
        "  return sum # Put your return value here."
      ],
      "execution_count": 4,
      "outputs": []
    },
    {
      "cell_type": "code",
      "source": [
        "l = [0,1,2,3,4,5]\n",
        "print(sum_list(l))"
      ],
      "metadata": {
        "colab": {
          "base_uri": "https://localhost:8080/"
        },
        "id": "4Tz-YpLsvnau",
        "outputId": "6007ccac-8d7f-460f-f7b5-29180589d1ff"
      },
      "execution_count": 5,
      "outputs": [
        {
          "output_type": "stream",
          "name": "stdout",
          "text": [
            "15\n"
          ]
        }
      ]
    },
    {
      "cell_type": "markdown",
      "metadata": {
        "id": "qrKdBbfFgpOU"
      },
      "source": [
        "**Problem 3**"
      ]
    },
    {
      "cell_type": "code",
      "metadata": {
        "id": "84RmxbZmgTX-"
      },
      "source": [
        "def list_relu(L):\n",
        "  new_list=L.copy()  # Remember to create a copy of your list.  After this lab you'll need to remember to do it on your own.\n",
        "  for i in range(len(new_list)):\n",
        "    if(new_list[i] < 0):\n",
        "      new_list[i] = 0\n",
        "  # Put your code here. \n",
        "  return new_list# Put your return value here."
      ],
      "execution_count": 6,
      "outputs": []
    },
    {
      "cell_type": "code",
      "source": [
        "print(list_relu([-1, 0, 1, -5, 5.677]))"
      ],
      "metadata": {
        "colab": {
          "base_uri": "https://localhost:8080/"
        },
        "id": "FUGb4VkKv7eE",
        "outputId": "62a52f15-0427-441e-9a1c-1f236089ed71"
      },
      "execution_count": 7,
      "outputs": [
        {
          "output_type": "stream",
          "name": "stdout",
          "text": [
            "[0, 0, 1, 0, 5.677]\n"
          ]
        }
      ]
    },
    {
      "cell_type": "code",
      "source": [
        "list1=[1,2,3]\n",
        "list2=[2,-1,0]\n",
        "\n",
        "print(list1+list2)"
      ],
      "metadata": {
        "colab": {
          "base_uri": "https://localhost:8080/"
        },
        "id": "LhimgJtqxSf3",
        "outputId": "917b5e7e-64db-4080-d8fd-ff3cded416e0"
      },
      "execution_count": 8,
      "outputs": [
        {
          "output_type": "stream",
          "name": "stdout",
          "text": [
            "[1, 2, 3, 2, -1, 0]\n"
          ]
        }
      ]
    },
    {
      "cell_type": "markdown",
      "metadata": {
        "id": "vAPEAMw_iGlF"
      },
      "source": [
        "**Problem 4**"
      ]
    },
    {
      "cell_type": "code",
      "metadata": {
        "id": "g7Tm-N35qY5O"
      },
      "source": [
        "import numpy as np  # Importing NumPy"
      ],
      "execution_count": 9,
      "outputs": []
    },
    {
      "cell_type": "code",
      "source": [
        "array1=np.array(list1)\n",
        "array2=np.array(list2)\n",
        "\n",
        "print(array1+array2)\n",
        "my_vect=np.array([1,2,-1])\n",
        "\n",
        "print(3*my_vect)      # scalar multiplying my_vect by 3\n",
        "\n",
        "\n",
        "a=np.array([1,2,3,1])     # Defining two vectors of the same size, a and b.\n",
        "b=np.array([1,1,1,1])\n",
        "np.dot(a,b)               # Taking the dot product of a and b. \n",
        "\n",
        "\n",
        "my_matrix=np.array([[1, 2, 3, 4],[-5, -6, -7, -8],[1, 5 , 2, 3]])\n",
        "print(my_matrix)"
      ],
      "metadata": {
        "colab": {
          "base_uri": "https://localhost:8080/"
        },
        "id": "qY_QhrsxxYi_",
        "outputId": "76b660fd-c77e-4075-847f-ed5f4cc40c62"
      },
      "execution_count": 10,
      "outputs": [
        {
          "output_type": "stream",
          "name": "stdout",
          "text": [
            "[3 1 3]\n",
            "[ 3  6 -3]\n",
            "[[ 1  2  3  4]\n",
            " [-5 -6 -7 -8]\n",
            " [ 1  5  2  3]]\n"
          ]
        }
      ]
    },
    {
      "cell_type": "code",
      "source": [
        "v=np.array([4,1,-5,3,-2,1,0,9])\n",
        "\n",
        "print(v[3])         # Print out the entry at index 3 (i.e. the fourth entry)\n",
        "                    # in the vector v.\n",
        "\n",
        "print(v[2:6])       # Print out all entries in v between (and including)\n",
        "                    # index 2 and index 5. Notice that the starting\n",
        "                    # index 2 is included, but the stopping index 6 is not.\n",
        "\n",
        "print(v[3:])        # Print out the entries starting at index 3 to the end\n",
        "                    # of the vector.\n",
        "\n",
        "print(v[:6])        # Print out the entries starting at the beginning of the\n",
        "                    # vector up to the entry at index 5.\n",
        "\n",
        "print(v[:])         # If we don't specify a start or stop index, we get back\n",
        "                    # the whole array."
      ],
      "metadata": {
        "colab": {
          "base_uri": "https://localhost:8080/"
        },
        "id": "07_eOHYAxyhh",
        "outputId": "9e90e43b-91e6-4c4b-df63-2b04ae9e9fa9"
      },
      "execution_count": 11,
      "outputs": [
        {
          "output_type": "stream",
          "name": "stdout",
          "text": [
            "3\n",
            "[-5  3 -2  1]\n",
            "[ 3 -2  1  0  9]\n",
            "[ 4  1 -5  3 -2  1]\n",
            "[ 4  1 -5  3 -2  1  0  9]\n"
          ]
        }
      ]
    },
    {
      "cell_type": "code",
      "source": [
        "my_matrix=np.array([[1, 2, 3, 4],[-5, -6, -7, -8],[1, 5, 2, 3]])\n",
        "\n",
        "print(my_matrix[1,2])     # Print the element in the second row, third column\n",
        "                          # of my matrix.\n",
        "\n",
        "print(my_matrix[2,1:3])   # Print everything in the third row, from the second\n",
        "                          # to the third column.\n",
        "\n",
        "print(my_matrix[:,3])     # If we don't specify a start or stop index in the\n",
        "                          # first spot, we get the entire fourth column.\n",
        "\n",
        "print(my_matrix[2,:])     # If we don't specify a start or stop index in the\n",
        "                          # second spot, we get the entire third row."
      ],
      "metadata": {
        "colab": {
          "base_uri": "https://localhost:8080/"
        },
        "id": "nv92epA1x7vi",
        "outputId": "24068d19-54f9-4d42-8c36-03ce6ec54884"
      },
      "execution_count": 12,
      "outputs": [
        {
          "output_type": "stream",
          "name": "stdout",
          "text": [
            "-7\n",
            "[5 2]\n",
            "[ 4 -8  3]\n",
            "[1 5 2 3]\n"
          ]
        }
      ]
    },
    {
      "cell_type": "code",
      "metadata": {
        "id": "GSJqyHzriHyM"
      },
      "source": [
        "my_var= (np.e**5 - np.log(np.sqrt(5)))/np.e**np.cos(3)  # Replace the value of 0 with the required value from Problem 4."
      ],
      "execution_count": 13,
      "outputs": []
    },
    {
      "cell_type": "markdown",
      "metadata": {
        "id": "H1pF-iahkVSF"
      },
      "source": [
        "**Problem 5**"
      ]
    },
    {
      "cell_type": "code",
      "metadata": {
        "id": "8nJnVRG5kTr8"
      },
      "source": [
        "v = np.array([1,3,-2,4,5])\n",
        "u = np.array([1,1,-2,1,1])\n",
        "w = np.array([1,0,1,0,1])\n",
        "\n",
        "my_vect_var = (np.dot(v,u)/np.dot(u,u))*u + (np.dot(v,w)/np.dot(w,w))*w"
      ],
      "execution_count": 14,
      "outputs": []
    },
    {
      "cell_type": "markdown",
      "metadata": {
        "id": "re7RuJoFlzOF"
      },
      "source": [
        "**Problem 6**"
      ]
    },
    {
      "cell_type": "code",
      "metadata": {
        "id": "yEVLhVbjkbDo"
      },
      "source": [
        "def first_rpt(M):\n",
        "  new_matrix=M.copy()  # Remember to create a copy of your matrix.  After this lab you'll need to remember to do it on your own.\n",
        "  for i in range(len(M)):\n",
        "    if(i > 0):\n",
        "      for j in range(len(M[0])):\n",
        "        new_matrix[i,j] = M[0,j]\n",
        "\n",
        "  return new_matrix"
      ],
      "execution_count": 15,
      "outputs": []
    },
    {
      "cell_type": "code",
      "source": [
        "my_matrix=np.array([[1, 2, 3, 4],[-5, -6, -7, -8],[1, 5, 2, 3]])\n",
        "print(my_matrix)\n",
        "print(first_rpt(my_matrix))"
      ],
      "metadata": {
        "colab": {
          "base_uri": "https://localhost:8080/"
        },
        "id": "1tVyXCPi0NhC",
        "outputId": "55add8f7-dcb6-4e16-b038-13421ed0cddb"
      },
      "execution_count": 16,
      "outputs": [
        {
          "output_type": "stream",
          "name": "stdout",
          "text": [
            "[[ 1  2  3  4]\n",
            " [-5 -6 -7 -8]\n",
            " [ 1  5  2  3]]\n",
            "[[1 2 3 4]\n",
            " [1 2 3 4]\n",
            " [1 2 3 4]]\n"
          ]
        }
      ]
    },
    {
      "cell_type": "code",
      "source": [
        "a=[i*j for i in range(1,4) for j in range(2,5)]\n",
        "print(a)"
      ],
      "metadata": {
        "colab": {
          "base_uri": "https://localhost:8080/"
        },
        "id": "E06iGw7V07y_",
        "outputId": "b90d7bc8-c92c-4514-b5d9-b0241267f141"
      },
      "execution_count": 17,
      "outputs": [
        {
          "output_type": "stream",
          "name": "stdout",
          "text": [
            "[2, 3, 4, 4, 6, 8, 6, 9, 12]\n"
          ]
        }
      ]
    },
    {
      "cell_type": "markdown",
      "metadata": {
        "id": "EipWzzRll93V"
      },
      "source": [
        "**Problem 7**"
      ]
    },
    {
      "cell_type": "code",
      "metadata": {
        "id": "WkBLvjjCl80O"
      },
      "source": [
        "def matrix_sum(M):\n",
        "  sum = 0\n",
        "  rows = len(M)\n",
        "  cols = len(M[0,:])\n",
        "  for i in range(rows):\n",
        "    for j in range(cols):\n",
        "      sum += M[i,j]\n",
        "  return sum"
      ],
      "execution_count": 18,
      "outputs": []
    },
    {
      "cell_type": "code",
      "source": [
        "mat=np.array([[1,-1,2,-3,1,1],[-2,-2,0,1,1,-5],[1,1,1,1,-2,-1]])\n",
        "print(matrix_sum(mat))"
      ],
      "metadata": {
        "colab": {
          "base_uri": "https://localhost:8080/"
        },
        "id": "fytPKtsH1jmP",
        "outputId": "7ecdd5e8-e070-455b-d850-2e4dc5bd6d40"
      },
      "execution_count": 19,
      "outputs": [
        {
          "output_type": "stream",
          "name": "stdout",
          "text": [
            "-5\n"
          ]
        }
      ]
    },
    {
      "cell_type": "markdown",
      "metadata": {
        "id": "RWju9gIhmQ5F"
      },
      "source": [
        "**Problem 8**"
      ]
    },
    {
      "cell_type": "code",
      "metadata": {
        "id": "SPpsjK27mQKJ"
      },
      "source": [
        "long_list=[0.5**i for i in range(1,101)]  # Replace the value of 0 with the required list from Problem 8."
      ],
      "execution_count": 20,
      "outputs": []
    },
    {
      "cell_type": "code",
      "source": [
        "print(long_list[-1])\n",
        "print(0.5**100)"
      ],
      "metadata": {
        "colab": {
          "base_uri": "https://localhost:8080/"
        },
        "id": "EciFYmUC2AZ7",
        "outputId": "7fa31926-89e7-44d2-b828-94ae7e54dd18"
      },
      "execution_count": 21,
      "outputs": [
        {
          "output_type": "stream",
          "name": "stdout",
          "text": [
            "7.888609052210118e-31\n",
            "7.888609052210118e-31\n"
          ]
        }
      ]
    },
    {
      "cell_type": "markdown",
      "metadata": {
        "id": "50kkHPD4o_ga"
      },
      "source": [
        "**Problem 9**"
      ]
    },
    {
      "cell_type": "code",
      "metadata": {
        "id": "lSrlFYZIo_DF"
      },
      "source": [
        "very_long_list=[f**i for i in range(1,100) for f in [1, 2, 3]]"
      ],
      "execution_count": 22,
      "outputs": []
    },
    {
      "cell_type": "code",
      "source": [
        "print(very_long_list[0:10])"
      ],
      "metadata": {
        "colab": {
          "base_uri": "https://localhost:8080/"
        },
        "id": "3RgZywhH2tpa",
        "outputId": "fcc0f9af-e812-46fc-e367-bce77c120897"
      },
      "execution_count": 23,
      "outputs": [
        {
          "output_type": "stream",
          "name": "stdout",
          "text": [
            "[1, 2, 3, 1, 4, 9, 1, 8, 27, 1]\n"
          ]
        }
      ]
    },
    {
      "cell_type": "markdown",
      "metadata": {
        "id": "zrBhGZMmVIcv"
      },
      "source": [
        "**STOP!  BEFORE YOU SUBMIT THIS LAB:**  Go to the \"Runtime\" menu at the top of this page, and select \"Restart and run all\".  If any of the cells produce error messages, you will either need to fix the error(s) or delete the code that is causing the error(s).  Then use \"Restart and run all\" again to see if there are any new errors.  Repeat this until no new error messages show up.  "
      ]
    },
    {
      "cell_type": "markdown",
      "metadata": {
        "id": "wI-gv66GVJ3X"
      },
      "source": [
        "**You are not ready to submit until you are able to select \"Restart and run all\" without any new error messages showing up.  Your code will not be able to be graded if there are any error messages.**"
      ]
    },
    {
      "cell_type": "markdown",
      "metadata": {
        "id": "nM-hGrpATAv4"
      },
      "source": [
        "To submit your lab for grading you must first download it to your compute as .py file. In the \"File\" menu select \"Download .py\". The resulting file can then be uploaded to http://www.math.byu.edu:30000 for grading."
      ]
    }
  ]
}