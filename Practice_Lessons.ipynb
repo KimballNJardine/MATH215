{
  "nbformat": 4,
  "nbformat_minor": 0,
  "metadata": {
    "colab": {
      "name": "Practice Lessons",
      "provenance": [],
      "authorship_tag": "ABX9TyOojnoM3zH9wv8CKRDO3cN+",
      "include_colab_link": true
    },
    "kernelspec": {
      "name": "python3",
      "display_name": "Python 3"
    },
    "language_info": {
      "name": "python"
    }
  },
  "cells": [
    {
      "cell_type": "markdown",
      "metadata": {
        "id": "view-in-github",
        "colab_type": "text"
      },
      "source": [
        "<a href=\"https://colab.research.google.com/github/KimballNJardine/MATH215/blob/main/Practice_Lessons.ipynb\" target=\"_parent\"><img src=\"https://colab.research.google.com/assets/colab-badge.svg\" alt=\"Open In Colab\"/></a>"
      ]
    },
    {
      "cell_type": "code",
      "execution_count": 1,
      "metadata": {
        "colab": {
          "base_uri": "https://localhost:8080/"
        },
        "id": "aF6rKiOYmuUn",
        "outputId": "d3a856ab-4195-43ad-f73f-13595d6bf5e3"
      },
      "outputs": [
        {
          "output_type": "stream",
          "name": "stdout",
          "text": [
            "10\n"
          ]
        }
      ],
      "source": [
        "def arithmatic(i):\n",
        "    j=i+2\n",
        "    k=3*j\n",
        "    w=k-5\n",
        "    return w\n",
        "\n",
        "print(arithmatic(3))"
      ]
    }
  ]
}